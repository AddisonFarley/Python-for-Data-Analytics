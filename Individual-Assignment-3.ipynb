{
  "nbformat": 4,
  "nbformat_minor": 0,
  "metadata": {
    "colab": {
      "provenance": []
    },
    "kernelspec": {
      "name": "python3",
      "display_name": "Python 3"
    },
    "language_info": {
      "name": "python"
    }
  },
  "cells": [
    {
      "cell_type": "markdown",
      "metadata": {
        "id": "aqylPkEiLAi1"
      },
      "source": [
        "**Question 1**\n",
        "[Google Trends](https://trends.google.com/trends/?geo=US) allows users to see how often a term is searched for in a geographic region and time frame. You will read in a csv file named `https://sueuland.greenriverdev.com/SDEV121/module3/pfizer.csv` that was generated from Google Trends. This file contains a **scaled** number of times people searched the word \"pfizer\" on google in the US from January 1, 2021 through May 1, 2021.  This **scaled** number ranges from 0 to 100. Where 100 is the peak popularity of the search term and 0 reflects low volume for the search term. You will load this Times Series DataSet into a Pandas DataFrame called pfizer_df. Rename the column `pfizer: (United States)` to simply `pfizer`"
      ]
    },
    {
      "cell_type": "code",
      "metadata": {
        "id": "o7a2zFY8LAFm",
        "colab": {
          "base_uri": "https://localhost:8080/",
          "height": 424
        },
        "outputId": "40a8d861-f16a-4b2c-b319-21ab9e8ddc82"
      },
      "source": [
        "#add your code here\n",
        "import pandas as pd\n",
        "\n",
        "df = pd.read_csv('https://sueuland.greenriverdev.com/SDEV121/module3/pfizer.csv')\n",
        "df.columns = ['Day', 'Pfizer']\n",
        "df"
      ],
      "execution_count": null,
      "outputs": [
        {
          "output_type": "execute_result",
          "data": {
            "text/plain": [
              "         Day  Pfizer\n",
              "0     1/1/21      14\n",
              "1     1/2/21      12\n",
              "2     1/3/21      14\n",
              "3     1/4/21      19\n",
              "4     1/5/21      23\n",
              "..       ...     ...\n",
              "116  4/27/21      56\n",
              "117  4/28/21      58\n",
              "118  4/29/21      53\n",
              "119  4/30/21      49\n",
              "120   5/1/21      45\n",
              "\n",
              "[121 rows x 2 columns]"
            ],
            "text/html": [
              "\n",
              "  <div id=\"df-115b0b1e-a4cb-47b7-a868-06f9e634ed90\">\n",
              "    <div class=\"colab-df-container\">\n",
              "      <div>\n",
              "<style scoped>\n",
              "    .dataframe tbody tr th:only-of-type {\n",
              "        vertical-align: middle;\n",
              "    }\n",
              "\n",
              "    .dataframe tbody tr th {\n",
              "        vertical-align: top;\n",
              "    }\n",
              "\n",
              "    .dataframe thead th {\n",
              "        text-align: right;\n",
              "    }\n",
              "</style>\n",
              "<table border=\"1\" class=\"dataframe\">\n",
              "  <thead>\n",
              "    <tr style=\"text-align: right;\">\n",
              "      <th></th>\n",
              "      <th>Day</th>\n",
              "      <th>Pfizer</th>\n",
              "    </tr>\n",
              "  </thead>\n",
              "  <tbody>\n",
              "    <tr>\n",
              "      <th>0</th>\n",
              "      <td>1/1/21</td>\n",
              "      <td>14</td>\n",
              "    </tr>\n",
              "    <tr>\n",
              "      <th>1</th>\n",
              "      <td>1/2/21</td>\n",
              "      <td>12</td>\n",
              "    </tr>\n",
              "    <tr>\n",
              "      <th>2</th>\n",
              "      <td>1/3/21</td>\n",
              "      <td>14</td>\n",
              "    </tr>\n",
              "    <tr>\n",
              "      <th>3</th>\n",
              "      <td>1/4/21</td>\n",
              "      <td>19</td>\n",
              "    </tr>\n",
              "    <tr>\n",
              "      <th>4</th>\n",
              "      <td>1/5/21</td>\n",
              "      <td>23</td>\n",
              "    </tr>\n",
              "    <tr>\n",
              "      <th>...</th>\n",
              "      <td>...</td>\n",
              "      <td>...</td>\n",
              "    </tr>\n",
              "    <tr>\n",
              "      <th>116</th>\n",
              "      <td>4/27/21</td>\n",
              "      <td>56</td>\n",
              "    </tr>\n",
              "    <tr>\n",
              "      <th>117</th>\n",
              "      <td>4/28/21</td>\n",
              "      <td>58</td>\n",
              "    </tr>\n",
              "    <tr>\n",
              "      <th>118</th>\n",
              "      <td>4/29/21</td>\n",
              "      <td>53</td>\n",
              "    </tr>\n",
              "    <tr>\n",
              "      <th>119</th>\n",
              "      <td>4/30/21</td>\n",
              "      <td>49</td>\n",
              "    </tr>\n",
              "    <tr>\n",
              "      <th>120</th>\n",
              "      <td>5/1/21</td>\n",
              "      <td>45</td>\n",
              "    </tr>\n",
              "  </tbody>\n",
              "</table>\n",
              "<p>121 rows × 2 columns</p>\n",
              "</div>\n",
              "      <button class=\"colab-df-convert\" onclick=\"convertToInteractive('df-115b0b1e-a4cb-47b7-a868-06f9e634ed90')\"\n",
              "              title=\"Convert this dataframe to an interactive table.\"\n",
              "              style=\"display:none;\">\n",
              "        \n",
              "  <svg xmlns=\"http://www.w3.org/2000/svg\" height=\"24px\"viewBox=\"0 0 24 24\"\n",
              "       width=\"24px\">\n",
              "    <path d=\"M0 0h24v24H0V0z\" fill=\"none\"/>\n",
              "    <path d=\"M18.56 5.44l.94 2.06.94-2.06 2.06-.94-2.06-.94-.94-2.06-.94 2.06-2.06.94zm-11 1L8.5 8.5l.94-2.06 2.06-.94-2.06-.94L8.5 2.5l-.94 2.06-2.06.94zm10 10l.94 2.06.94-2.06 2.06-.94-2.06-.94-.94-2.06-.94 2.06-2.06.94z\"/><path d=\"M17.41 7.96l-1.37-1.37c-.4-.4-.92-.59-1.43-.59-.52 0-1.04.2-1.43.59L10.3 9.45l-7.72 7.72c-.78.78-.78 2.05 0 2.83L4 21.41c.39.39.9.59 1.41.59.51 0 1.02-.2 1.41-.59l7.78-7.78 2.81-2.81c.8-.78.8-2.07 0-2.86zM5.41 20L4 18.59l7.72-7.72 1.47 1.35L5.41 20z\"/>\n",
              "  </svg>\n",
              "      </button>\n",
              "      \n",
              "  <style>\n",
              "    .colab-df-container {\n",
              "      display:flex;\n",
              "      flex-wrap:wrap;\n",
              "      gap: 12px;\n",
              "    }\n",
              "\n",
              "    .colab-df-convert {\n",
              "      background-color: #E8F0FE;\n",
              "      border: none;\n",
              "      border-radius: 50%;\n",
              "      cursor: pointer;\n",
              "      display: none;\n",
              "      fill: #1967D2;\n",
              "      height: 32px;\n",
              "      padding: 0 0 0 0;\n",
              "      width: 32px;\n",
              "    }\n",
              "\n",
              "    .colab-df-convert:hover {\n",
              "      background-color: #E2EBFA;\n",
              "      box-shadow: 0px 1px 2px rgba(60, 64, 67, 0.3), 0px 1px 3px 1px rgba(60, 64, 67, 0.15);\n",
              "      fill: #174EA6;\n",
              "    }\n",
              "\n",
              "    [theme=dark] .colab-df-convert {\n",
              "      background-color: #3B4455;\n",
              "      fill: #D2E3FC;\n",
              "    }\n",
              "\n",
              "    [theme=dark] .colab-df-convert:hover {\n",
              "      background-color: #434B5C;\n",
              "      box-shadow: 0px 1px 3px 1px rgba(0, 0, 0, 0.15);\n",
              "      filter: drop-shadow(0px 1px 2px rgba(0, 0, 0, 0.3));\n",
              "      fill: #FFFFFF;\n",
              "    }\n",
              "  </style>\n",
              "\n",
              "      <script>\n",
              "        const buttonEl =\n",
              "          document.querySelector('#df-115b0b1e-a4cb-47b7-a868-06f9e634ed90 button.colab-df-convert');\n",
              "        buttonEl.style.display =\n",
              "          google.colab.kernel.accessAllowed ? 'block' : 'none';\n",
              "\n",
              "        async function convertToInteractive(key) {\n",
              "          const element = document.querySelector('#df-115b0b1e-a4cb-47b7-a868-06f9e634ed90');\n",
              "          const dataTable =\n",
              "            await google.colab.kernel.invokeFunction('convertToInteractive',\n",
              "                                                     [key], {});\n",
              "          if (!dataTable) return;\n",
              "\n",
              "          const docLinkHtml = 'Like what you see? Visit the ' +\n",
              "            '<a target=\"_blank\" href=https://colab.research.google.com/notebooks/data_table.ipynb>data table notebook</a>'\n",
              "            + ' to learn more about interactive tables.';\n",
              "          element.innerHTML = '';\n",
              "          dataTable['output_type'] = 'display_data';\n",
              "          await google.colab.output.renderOutput(dataTable, element);\n",
              "          const docLink = document.createElement('div');\n",
              "          docLink.innerHTML = docLinkHtml;\n",
              "          element.appendChild(docLink);\n",
              "        }\n",
              "      </script>\n",
              "    </div>\n",
              "  </div>\n",
              "  "
            ]
          },
          "metadata": {},
          "execution_count": 2
        }
      ]
    },
    {
      "cell_type": "markdown",
      "metadata": {
        "id": "b3jIj3gIvCzQ"
      },
      "source": [
        "**Question 2**\n",
        "Display the descriptive statistics for how many times Pfizer was used as a google search term over the course of four months and display the associated boxplot. Do you see any outliers in the Google Trends Pfizer Data? \n",
        "\n",
        "**Answer:** No outliers observed."
      ]
    },
    {
      "cell_type": "code",
      "metadata": {
        "id": "8ukCM9yUvWEy",
        "colab": {
          "base_uri": "https://localhost:8080/",
          "height": 439
        },
        "outputId": "927d6136-c849-4e63-eb53-2df2dfd8db60"
      },
      "source": [
        "#add your code here\n",
        "print(df['Pfizer'].describe())\n",
        "df['Pfizer'].plot(kind='box')"
      ],
      "execution_count": null,
      "outputs": [
        {
          "output_type": "stream",
          "name": "stdout",
          "text": [
            "count    121.000000\n",
            "mean      42.520661\n",
            "std       19.410521\n",
            "min       12.000000\n",
            "25%       26.000000\n",
            "50%       37.000000\n",
            "75%       57.000000\n",
            "max      100.000000\n",
            "Name: Pfizer, dtype: float64\n"
          ]
        },
        {
          "output_type": "execute_result",
          "data": {
            "text/plain": [
              "<matplotlib.axes._subplots.AxesSubplot at 0x7fc67795cdd0>"
            ]
          },
          "metadata": {},
          "execution_count": 44
        },
        {
          "output_type": "display_data",
          "data": {
            "image/png": "[encoded data removed]",
            "text/plain": [
              "<Figure size 432x288 with 1 Axes>"
            ]
          },
          "metadata": {
            "needs_background": "light"
          }
        }
      ]
    },
    {
      "cell_type": "markdown",
      "metadata": {
        "id": "hZCzYEw8zILt"
      },
      "source": [
        "**Question 3**\n",
        "\n",
        "Create a Time Series Plot of the Pfizer Data by Day. During which month did the Pfizer search term peak in popularity?  \n",
        "\n",
        "**Answer** Queries for Pfizer reached their peak in April 2021\n"
      ]
    },
    {
      "cell_type": "code",
      "metadata": {
        "id": "QXj8nBSNz2NI",
        "colab": {
          "base_uri": "https://localhost:8080/",
          "height": 308
        },
        "outputId": "420d7cc8-3f72-483e-cb5d-1ba124de2eff"
      },
      "source": [
        "#add your code here\n",
        "df['Day'] = pd.to_datetime(df['Day'])\n",
        "df.plot(x='Day',y='Pfizer')"
      ],
      "execution_count": null,
      "outputs": [
        {
          "output_type": "execute_result",
          "data": {
            "text/plain": [
              "<matplotlib.axes._subplots.AxesSubplot at 0x7fc6778bd490>"
            ]
          },
          "metadata": {},
          "execution_count": 45
        },
        {
          "output_type": "display_data",
          "data": {
            "image/png": "[encoded data removed]",
            "text/plain": [
              "<Figure size 432x288 with 1 Axes>"
            ]
          },
          "metadata": {
            "needs_background": "light"
          }
        }
      ]
    },
    {
      "cell_type": "markdown",
      "metadata": {
        "id": "JtLloBwywSJk"
      },
      "source": [
        "**Question 4**\n",
        "\n",
        "Create an optimal histogram for the Pfizer data.  Does the data in your histogram appeared skewed? If so, is it left or right skewed? Does the data in the histogram appear to be unimodal, bimodal, or multimodal?\n",
        "\n",
        "**Answers** The visualization appears unimodal with a right skew"
      ]
    },
    {
      "cell_type": "code",
      "metadata": {
        "id": "EqX0wVtnwilV",
        "colab": {
          "base_uri": "https://localhost:8080/",
          "height": 282
        },
        "outputId": "8d1a6a2a-ec2b-47ac-e833-7ef69dc96f04"
      },
      "source": [
        "#add your code here\n",
        "df['Pfizer'].hist()"
      ],
      "execution_count": null,
      "outputs": [
        {
          "output_type": "execute_result",
          "data": {
            "text/plain": [
              "<matplotlib.axes._subplots.AxesSubplot at 0x7fc67795c8d0>"
            ]
          },
          "metadata": {},
          "execution_count": 46
        },
        {
          "output_type": "display_data",
          "data": {
            "image/png": "[encoded data removed]",
            "text/plain": [
              "<Figure size 432x288 with 1 Axes>"
            ]
          },
          "metadata": {
            "needs_background": "light"
          }
        }
      ]
    },
    {
      "cell_type": "markdown",
      "metadata": {
        "id": "CwwfRlK70eX0"
      },
      "source": [
        "**Question 5**\n",
        "\n",
        "Load the data from `https://sueuland.greenriverdev.com/SDEV121/module3/seattle_utilities.csv` into a pandas dataframe named `utilities_df`.  The `seattle_utilities.csv` contains energy usage data collected in Seattle from January 2013 to December 2015. **Note** the first two columns are named `Electricity kWh)`and `Natural Gas(Therms)` usage."
      ]
    },
    {
      "cell_type": "code",
      "metadata": {
        "id": "Ii0YRbFQ3V1m",
        "colab": {
          "base_uri": "https://localhost:8080/",
          "height": 206
        },
        "outputId": "3b428ef0-be3a-4361-92f6-858513d7e6f3"
      },
      "source": [
        "#add your code here\n",
        "utilities_df = pd.read_csv('https://sueuland.greenriverdev.com/SDEV121/module3/seattle_utilities.csv')\n",
        "utilities_df.head()"
      ],
      "execution_count": null,
      "outputs": [
        {
          "output_type": "execute_result",
          "data": {
            "text/html": [
              "\n",
              "  <div id=\"df-6c38cbfd-bb6e-4f75-9efd-e0d8c8318ef2\">\n",
              "    <div class=\"colab-df-container\">\n",
              "      <div>\n",
              "<style scoped>\n",
              "    .dataframe tbody tr th:only-of-type {\n",
              "        vertical-align: middle;\n",
              "    }\n",
              "\n",
              "    .dataframe tbody tr th {\n",
              "        vertical-align: top;\n",
              "    }\n",
              "\n",
              "    .dataframe thead th {\n",
              "        text-align: right;\n",
              "    }\n",
              "</style>\n",
              "<table border=\"1\" class=\"dataframe\">\n",
              "  <thead>\n",
              "    <tr style=\"text-align: right;\">\n",
              "      <th></th>\n",
              "      <th>Month</th>\n",
              "      <th>Electricity (kWh)</th>\n",
              "      <th>Natural Gas (Therms)</th>\n",
              "      <th>Other Fuels (MBtu)</th>\n",
              "      <th>Total Fossil Fuel (MBtu)</th>\n",
              "      <th>Fuel Percent Change</th>\n",
              "      <th>Total Energy (MBtu)</th>\n",
              "      <th>Energy Percent Change</th>\n",
              "      <th>Water (ccf)</th>\n",
              "      <th>Sewer (ccf)</th>\n",
              "      <th>Refuse (Cu Yds)</th>\n",
              "    </tr>\n",
              "  </thead>\n",
              "  <tbody>\n",
              "    <tr>\n",
              "      <th>0</th>\n",
              "      <td>1/1/13 0:00</td>\n",
              "      <td>1466412</td>\n",
              "      <td>64152</td>\n",
              "      <td>3831</td>\n",
              "      <td>10246</td>\n",
              "      <td>-6.1</td>\n",
              "      <td>15250</td>\n",
              "      <td>-2.7</td>\n",
              "      <td>1578</td>\n",
              "      <td>1561</td>\n",
              "      <td>63</td>\n",
              "    </tr>\n",
              "    <tr>\n",
              "      <th>1</th>\n",
              "      <td>2/1/13 0:00</td>\n",
              "      <td>1292195</td>\n",
              "      <td>47279</td>\n",
              "      <td>2624</td>\n",
              "      <td>7352</td>\n",
              "      <td>-16.4</td>\n",
              "      <td>11761</td>\n",
              "      <td>-10.9</td>\n",
              "      <td>1256</td>\n",
              "      <td>1240</td>\n",
              "      <td>59</td>\n",
              "    </tr>\n",
              "    <tr>\n",
              "      <th>2</th>\n",
              "      <td>3/1/13 0:00</td>\n",
              "      <td>1445693</td>\n",
              "      <td>57402</td>\n",
              "      <td>2744</td>\n",
              "      <td>8484</td>\n",
              "      <td>3.5</td>\n",
              "      <td>13416</td>\n",
              "      <td>3.5</td>\n",
              "      <td>1339</td>\n",
              "      <td>1302</td>\n",
              "      <td>67</td>\n",
              "    </tr>\n",
              "    <tr>\n",
              "      <th>3</th>\n",
              "      <td>4/1/13 0:00</td>\n",
              "      <td>1341944</td>\n",
              "      <td>42723</td>\n",
              "      <td>2303</td>\n",
              "      <td>6575</td>\n",
              "      <td>29.7</td>\n",
              "      <td>11154</td>\n",
              "      <td>16.3</td>\n",
              "      <td>1019</td>\n",
              "      <td>961</td>\n",
              "      <td>35</td>\n",
              "    </tr>\n",
              "    <tr>\n",
              "      <th>4</th>\n",
              "      <td>5/1/13 0:00</td>\n",
              "      <td>1317986</td>\n",
              "      <td>26592</td>\n",
              "      <td>2232</td>\n",
              "      <td>4891</td>\n",
              "      <td>-9.1</td>\n",
              "      <td>9388</td>\n",
              "      <td>-6.4</td>\n",
              "      <td>2176</td>\n",
              "      <td>1610</td>\n",
              "      <td>104</td>\n",
              "    </tr>\n",
              "  </tbody>\n",
              "</table>\n",
              "</div>\n",
              "      <button class=\"colab-df-convert\" onclick=\"convertToInteractive('df-6c38cbfd-bb6e-4f75-9efd-e0d8c8318ef2')\"\n",
              "              title=\"Convert this dataframe to an interactive table.\"\n",
              "              style=\"display:none;\">\n",
              "        \n",
              "  <svg xmlns=\"http://www.w3.org/2000/svg\" height=\"24px\"viewBox=\"0 0 24 24\"\n",
              "       width=\"24px\">\n",
              "    <path d=\"M0 0h24v24H0V0z\" fill=\"none\"/>\n",
              "    <path d=\"M18.56 5.44l.94 2.06.94-2.06 2.06-.94-2.06-.94-.94-2.06-.94 2.06-2.06.94zm-11 1L8.5 8.5l.94-2.06 2.06-.94-2.06-.94L8.5 2.5l-.94 2.06-2.06.94zm10 10l.94 2.06.94-2.06 2.06-.94-2.06-.94-.94-2.06-.94 2.06-2.06.94z\"/><path d=\"M17.41 7.96l-1.37-1.37c-.4-.4-.92-.59-1.43-.59-.52 0-1.04.2-1.43.59L10.3 9.45l-7.72 7.72c-.78.78-.78 2.05 0 2.83L4 21.41c.39.39.9.59 1.41.59.51 0 1.02-.2 1.41-.59l7.78-7.78 2.81-2.81c.8-.78.8-2.07 0-2.86zM5.41 20L4 18.59l7.72-7.72 1.47 1.35L5.41 20z\"/>\n",
              "  </svg>\n",
              "      </button>\n",
              "      \n",
              "  <style>\n",
              "    .colab-df-container {\n",
              "      display:flex;\n",
              "      flex-wrap:wrap;\n",
              "      gap: 12px;\n",
              "    }\n",
              "\n",
              "    .colab-df-convert {\n",
              "      background-color: #E8F0FE;\n",
              "      border: none;\n",
              "      border-radius: 50%;\n",
              "      cursor: pointer;\n",
              "      display: none;\n",
              "      fill: #1967D2;\n",
              "      height: 32px;\n",
              "      padding: 0 0 0 0;\n",
              "      width: 32px;\n",
              "    }\n",
              "\n",
              "    .colab-df-convert:hover {\n",
              "      background-color: #E2EBFA;\n",
              "      box-shadow: 0px 1px 2px rgba(60, 64, 67, 0.3), 0px 1px 3px 1px rgba(60, 64, 67, 0.15);\n",
              "      fill: #174EA6;\n",
              "    }\n",
              "\n",
              "    [theme=dark] .colab-df-convert {\n",
              "      background-color: #3B4455;\n",
              "      fill: #D2E3FC;\n",
              "    }\n",
              "\n",
              "    [theme=dark] .colab-df-convert:hover {\n",
              "      background-color: #434B5C;\n",
              "      box-shadow: 0px 1px 3px 1px rgba(0, 0, 0, 0.15);\n",
              "      filter: drop-shadow(0px 1px 2px rgba(0, 0, 0, 0.3));\n",
              "      fill: #FFFFFF;\n",
              "    }\n",
              "  </style>\n",
              "\n",
              "      <script>\n",
              "        const buttonEl =\n",
              "          document.querySelector('#df-6c38cbfd-bb6e-4f75-9efd-e0d8c8318ef2 button.colab-df-convert');\n",
              "        buttonEl.style.display =\n",
              "          google.colab.kernel.accessAllowed ? 'block' : 'none';\n",
              "\n",
              "        async function convertToInteractive(key) {\n",
              "          const element = document.querySelector('#df-6c38cbfd-bb6e-4f75-9efd-e0d8c8318ef2');\n",
              "          const dataTable =\n",
              "            await google.colab.kernel.invokeFunction('convertToInteractive',\n",
              "                                                     [key], {});\n",
              "          if (!dataTable) return;\n",
              "\n",
              "          const docLinkHtml = 'Like what you see? Visit the ' +\n",
              "            '<a target=\"_blank\" href=https://colab.research.google.com/notebooks/data_table.ipynb>data table notebook</a>'\n",
              "            + ' to learn more about interactive tables.';\n",
              "          element.innerHTML = '';\n",
              "          dataTable['output_type'] = 'display_data';\n",
              "          await google.colab.output.renderOutput(dataTable, element);\n",
              "          const docLink = document.createElement('div');\n",
              "          docLink.innerHTML = docLinkHtml;\n",
              "          element.appendChild(docLink);\n",
              "        }\n",
              "      </script>\n",
              "    </div>\n",
              "  </div>\n",
              "  "
            ],
            "text/plain": [
              "         Month  Electricity (kWh)  ...  Sewer (ccf)  Refuse (Cu Yds)\n",
              "0  1/1/13 0:00            1466412  ...         1561               63\n",
              "1  2/1/13 0:00            1292195  ...         1240               59\n",
              "2  3/1/13 0:00            1445693  ...         1302               67\n",
              "3  4/1/13 0:00            1341944  ...          961               35\n",
              "4  5/1/13 0:00            1317986  ...         1610              104\n",
              "\n",
              "[5 rows x 11 columns]"
            ]
          },
          "metadata": {},
          "execution_count": 47
        }
      ]
    },
    {
      "cell_type": "markdown",
      "metadata": {
        "id": "zJEXICXU1vrh"
      },
      "source": [
        "**Question 6**\n",
        "\n",
        "Create a regression plot of the `Electricity (kWh)` versus the `Natural Gas(Therms)`.  Using the regression plot, describe the relationship you see between the two values.\n",
        "\n",
        "**Answer** There is a weak positive correlation between the two columns (r = 0.153)."
      ]
    },
    {
      "cell_type": "code",
      "metadata": {
        "id": "MubrCKAL3RC7",
        "colab": {
          "base_uri": "https://localhost:8080/",
          "height": 348
        },
        "outputId": "a0c7eeb1-4cb1-4a1a-bbec-70416f68c00f"
      },
      "source": [
        "#add your code here\n",
        "import seaborn as sns\n",
        "from scipy import stats\n",
        "\n",
        "x = stats.linregress(x=utilities_df['Electricity (kWh)'],y=utilities_df['Natural Gas (Therms)'])\n",
        "\n",
        "print(x)\n",
        "print(f'\\nQuestion 4 = {round(x.slope * 1456666 + x.intercept, 2)}\\n')\n",
        "\n",
        "y = sns.regplot(x=utilities_df['Electricity (kWh)'],y=utilities_df['Natural Gas (Therms)'])"
      ],
      "execution_count": null,
      "outputs": [
        {
          "output_type": "stream",
          "name": "stdout",
          "text": [
            "LinregressResult(slope=0.03079068433324493, intercept=-6752.09416337603, rvalue=0.15302770946691685, pvalue=0.37291482919634056, stderr=0.03410077729026882)\n",
            "\n",
            "Question 4 = 38099.65\n",
            "\n"
          ]
        },
        {
          "output_type": "display_data",
          "data": {
            "image/png": "[encoded data removed]",
            "text/plain": [
              "<Figure size 432x288 with 1 Axes>"
            ]
          },
          "metadata": {
            "needs_background": "light"
          }
        }
      ]
    },
    {
      "cell_type": "markdown",
      "metadata": {
        "id": "CKiUJnuY2bjX"
      },
      "source": [
        "**Question 7**\n",
        "Find the equation for the regression line.\n",
        "\n",
        "(1) What is the r-value? What is it telling you about this relationship?\n",
        "\n",
        "**Answer** r = 0.153\n",
        "\n",
        "\n",
        "(2) What is the slope of the regression line?\n",
        "\n",
        "**Answer** slope = .03\n",
        "\n",
        "(3) What is the intercept of the regression line?\n",
        "\n",
        "**Answer** intercept = -6752.09\n",
        "\n",
        "(4) What is the predicted Natural Gas usage for an Electricity usage of 1456666 kWh?\n",
        "\n",
        "**Answer** 38099.65 Therms"
      ]
    }
  ]
}