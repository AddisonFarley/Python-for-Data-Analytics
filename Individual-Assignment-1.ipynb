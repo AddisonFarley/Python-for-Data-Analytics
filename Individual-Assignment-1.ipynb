{
  "nbformat": 4,
  "nbformat_minor": 0,
  "metadata": {
    "colab": {
      "name": "Module1IndividualAssignment1a.ipynb",
      "provenance": [],
      "collapsed_sections": []
    },
    "kernelspec": {
      "display_name": "Python 3",
      "language": "python",
      "name": "python3"
    }
  },
  "cells": [
    {
      "cell_type": "markdown",
      "metadata": {
        "id": "NJP3CeZEem9m"
      },
      "source": [
        "# Module 1: Assignment 1a\n",
        "\n",
        "\n",
        "In this notebook, you will write python code that reads in a file named `usa-locations.csv`.  You will then analyze the data and produce a bar chart. The usa-locations.csv file only has two columns of data: city,state.  The first few rows of data in the file are shown below: \n",
        "\n",
        "`City,State`\n",
        "\n",
        "---\n",
        "\n",
        "\n",
        "`Aaronsburg,PA`\n",
        "\n",
        "`Abbeville,AL`\n",
        "\n",
        "`Abbeville,GA`\n",
        "\n",
        "`Abbeville,LA`\n",
        "\n",
        "`Abbeville,MS`\n",
        "\n",
        "\n",
        "Notice the comma is used to separate(delimit) the city from the state. You will peform some data analysis as described in the cells below."
      ]
    },
    {
      "cell_type": "markdown",
      "metadata": {
        "id": "TkG7KRVWem9n"
      },
      "source": [
        "### Run this cell everytime you open this notebook.\n",
        "\n",
        "Load the packages and files to get started."
      ]
    },
    {
      "cell_type": "code",
      "metadata": {
        "id": "CYsavPFKem9o",
        "colab": {
          "base_uri": "https://localhost:8080/"
        },
        "outputId": "a509d0a2-9763-42c3-bd53-363868baf5ed"
      },
      "source": [
        "\n",
        "\n",
        "!find . -type f -name '*.ok' -delete\n",
        "!find . -type f -name '*.csv' -delete\n",
        "\n",
        "!wget https://sueuland.greenriverdev.com/SDEV121/module1/usa-locations.csv\n",
        "\n"
      ],
      "execution_count": 1,
      "outputs": [
        {
          "output_type": "stream",
          "name": "stdout",
          "text": [
            "--2022-01-12 21:06:56--  https://sueuland.greenriverdev.com/SDEV121/module1/usa-locations.csv\n",
            "Resolving sueuland.greenriverdev.com (sueuland.greenriverdev.com)... 96.126.124.156\n",
            "Connecting to sueuland.greenriverdev.com (sueuland.greenriverdev.com)|96.126.124.156|:443... connected.\n",
            "HTTP request sent, awaiting response... 200 OK\n",
            "Length: 378755 (370K) [text/csv]\n",
            "Saving to: ‘usa-locations.csv’\n",
            "\n",
            "usa-locations.csv   100%[===================>] 369.88K  --.-KB/s    in 0.1s    \n",
            "\n",
            "2022-01-12 21:06:56 (3.17 MB/s) - ‘usa-locations.csv’ saved [378755/378755]\n",
            "\n"
          ]
        }
      ]
    },
    {
      "cell_type": "markdown",
      "metadata": {
        "id": "nOa7D23Jem94"
      },
      "source": [
        "\n",
        "**Part 1. Read in the file**\n",
        "In the next cell you should open the file and read in the contents to a list of strings. The file has already been pulled from the website: https://sueuland.greenriverdev.com/SDEV121/module1/usa-locations.csv but if you want to practice using the urlopen method you could also directly read it in from the website after adding the line `from urllib.request import urlopen`"
      ]
    },
    {
      "cell_type": "code",
      "metadata": {
        "id": "zTH-FK1qem95"
      },
      "source": [
        "# read in the file contents\n",
        "with open('usa-locations.csv') as data_file:\n",
        "  data_list = data_file.readlines()\n"
      ],
      "execution_count": null,
      "outputs": []
    },
    {
      "cell_type": "markdown",
      "metadata": {
        "id": "_cMv0IIjem-A"
      },
      "source": [
        "**Part 2. Print the total number of cities in the list** In the next cell, you should print out the total number of cities in the list that you created in Part 1. You should produce/print this output **exactly**: `There are 30352 cities in the file.`\n",
        " "
      ]
    },
    {
      "cell_type": "code",
      "metadata": {
        "id": "ffM0jiSPem-C",
        "colab": {
          "base_uri": "https://localhost:8080/"
        },
        "outputId": "64937dbf-35fc-4200-c14c-d9acc3e4d5dd"
      },
      "source": [
        "#add your code here to print the total number of cities in the list\n",
        "\n",
        "city_count = []\n",
        "\n",
        "for _ in data_list:\n",
        "  pieces = _.strip().split(',')\n",
        "  city_count.append(pieces[0])\n",
        "\n",
        "city_count.pop(0)\n",
        "\n",
        "print(f'There are {len(city_count)} cities in the file.')"
      ],
      "execution_count": 49,
      "outputs": [
        {
          "output_type": "stream",
          "name": "stdout",
          "text": [
            "There are 30352 cities in the file.\n"
          ]
        }
      ]
    },
    {
      "cell_type": "markdown",
      "metadata": {
        "id": "_PG9ON8PTXxr"
      },
      "source": [
        "**Part 3. Print the total number of cities that begin with a particular letter** In the next cell, the user is prompted to enter a capital letter. You should always convert the letter entered to uppercase. You then should iterate through the list you created from the file `usa-locations.csv` and count the number of cities that begin with this **capital** letter.  For Example, if the user enters 'A', you should output `There are 1348 cities in the file that begin with the letter A.` \n"
      ]
    },
    {
      "cell_type": "code",
      "metadata": {
        "id": "yOgU0Ux_U2vS",
        "colab": {
          "base_uri": "https://localhost:8080/"
        },
        "outputId": "7305d6fb-9a6a-4f11-e50f-637c18c24947"
      },
      "source": [
        "letter = input(\"Enter a capital letter for the name of a city to search the file with: \")\n",
        "# add your code here to iterate through the list and count how many cities begin with this capital letter and print the answer\n",
        "total = 0\n",
        "for _ in city_count:\n",
        "  if _[0] == letter.upper():\n",
        "    total += 1\n",
        "print(f'There are {total} cities in the file that begin with the letter {letter.upper()}.')"
      ],
      "execution_count": 56,
      "outputs": [
        {
          "output_type": "stream",
          "name": "stdout",
          "text": [
            "Enter a capital letter for the name of a city to search the file with: a\n",
            "There are 1348 cities in the file that begin with the letter A.\n"
          ]
        }
      ]
    },
    {
      "cell_type": "markdown",
      "metadata": {
        "id": "YYnJCgC1oGby"
      },
      "source": [
        "**Part 4: Create a Dictionary** In the next cell you should create a dictionary that maps a state (WA) to the **count** of cities in the list for that particular state. The key for the dictionary is the state and the value is the count of the number of cities in that state. If the dictionary is created correctly, you should have Washington State in the dictionary with the key WA mapped to the value (city count) **496**\n"
      ]
    },
    {
      "cell_type": "code",
      "metadata": {
        "id": "hu--h6z8pEWl",
        "colab": {
          "base_uri": "https://localhost:8080/"
        },
        "outputId": "4b9e753b-e678-46e3-e69b-19046980426f"
      },
      "source": [
        "#create an empty dictionary\n",
        "city_state_count = { }\n",
        "\n",
        "#add your code here to populate the dictionary\n",
        "states = []\n",
        "\n",
        "total_wa = 0\n",
        "\n",
        "for _ in data_list:\n",
        "  pieces = _.strip().split(',')\n",
        "  states.append(pieces[1])\n",
        "\n",
        "states.pop(0)\n",
        "states_list = list(set(states))\n",
        "states_list = sorted(states_list)\n",
        "\n",
        "def stateCity(index, dictionary):\n",
        "  count = 0\n",
        "  for _ in states:\n",
        "    if _ == states_list[index]:\n",
        "      count += 1\n",
        "  dictionary[states_list[index]] = count\n",
        "\n",
        "for _ in range(0,54):\n",
        "  stateCity(_, city_state_count)\n",
        "\n",
        "print(city_state_count)\n",
        "city_state_count['WA']"
      ],
      "execution_count": 60,
      "outputs": [
        {
          "output_type": "stream",
          "name": "stdout",
          "text": [
            "{'AK': 231, 'AL': 587, 'AR': 622, 'AS': 1, 'AZ': 271, 'CA': 1243, 'CO': 410, 'CT': 270, 'DC': 1, 'DE': 59, 'FL': 542, 'GA': 630, 'HI': 96, 'IA': 949, 'ID': 273, 'IL': 1309, 'IN': 752, 'KS': 641, 'KY': 847, 'LA': 497, 'MA': 507, 'MD': 437, 'ME': 479, 'MI': 901, 'MN': 823, 'MO': 964, 'MS': 440, 'MT': 366, 'NC': 769, 'ND': 391, 'NE': 540, 'NH': 252, 'NJ': 590, 'NM': 353, 'NV': 101, 'NY': 1630, 'OH': 1083, 'OK': 593, 'OR': 384, 'PA': 1847, 'PR': 103, 'RI': 71, 'SC': 381, 'SD': 395, 'TN': 554, 'TX': 1490, 'UT': 252, 'VA': 852, 'VI': 5, 'VT': 292, 'WA': 496, 'WI': 777, 'WV': 827, 'WY': 176}\n"
          ]
        },
        {
          "output_type": "execute_result",
          "data": {
            "text/plain": [
              "496"
            ]
          },
          "metadata": {},
          "execution_count": 60
        }
      ]
    },
    {
      "cell_type": "markdown",
      "metadata": {
        "id": "acEfM5MC75tX"
      },
      "source": [
        "**Part 5: Create a Bar Plot** In the next cell you should create a bar chart showing the number of cities for each state in the file. An example is shown below but your ordering may differ\n",
        "<img src = 'https://sueuland.greenriverdev.com/SDEV121/module1/city_count_barplot.png'>"
      ]
    },
    {
      "cell_type": "code",
      "metadata": {
        "id": "Id9ON82O-K6R",
        "colab": {
          "base_uri": "https://localhost:8080/",
          "height": 530
        },
        "outputId": "af96cbac-c067-4dfe-b437-190c76e1a9e5"
      },
      "source": [
        "import matplotlib.pyplot as plt\n",
        "import seaborn as sns\n",
        "\n",
        "#makes plot wide enough to see all states\n",
        "plt.figure(figsize=(20,8))\n",
        "# add your code here to create the barplot\n",
        "my_graph = sns.barplot(x = list(city_state_count.keys()), y = list(city_state_count.values()))\n",
        "my_graph.set_title('Number of Cities Per State')\n",
        "my_graph.set(xlabel = 'State', ylabel = 'Amount of Cities')"
      ],
      "execution_count": 61,
      "outputs": [
        {
          "output_type": "execute_result",
          "data": {
            "text/plain": [
              "[Text(0, 0.5, 'Amount of Cities'), Text(0.5, 0, 'State')]"
            ]
          },
          "metadata": {},
          "execution_count": 61
        },
        {
          "output_type": "display_data",
          "data": {
            "image/png": "[encoded data removed]",
            "text/plain": [
              "<Figure size 1440x576 with 1 Axes>"
            ]
          },
          "metadata": {
            "needs_background": "light"
          }
        }
      ]
    }
  ]
}